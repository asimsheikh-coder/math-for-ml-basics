# 🧮 Math for ML Basics
# This notebook introduces basic mathematical concepts behind machine learning
# using simple Python code and visualizations.

# ---
# 📘 Table of Contents
# 1. Mean, Median, and Mode
# 2. Variance and Standard Deviation
# 3. Probability Distributions
# 4. Correlation
# 5. Bayes’ Theorem (Bonus)
# ---

# ## 1️⃣ Mean, Median, and Mode
import numpy as np
import statistics as stats

data = [12, 15, 12, 18, 19, 12, 25, 22, 19]

mean = np.mean(data)
median = np.median(data)
mode = stats.mode(data)

print("Data:", data)
print("Mean:", mean)
print("Median:", median)
print("Mode:", mode)

# ## 2️⃣ Variance and Standard Deviation
variance = np.var(data)
std_dev = np.std(data)

print("\nVariance:", variance)
print("Standard Deviation:", std_dev)

# ## 3️⃣ Probability Distributions
import matplotlib.pyplot as plt
from scipy.stats import norm

x = np.linspace(-5, 5, 100)
y = norm.pdf(x, 0, 1)

plt.plot(x, y)
plt.title("Normal Distribution (Mean=0, SD=1)")
plt.xlabel("X values")
plt.ylabel("Probability Density")
plt.grid(True)
plt.show()

# ## 4️⃣ Correlation
x = [1, 2, 3, 4, 5]
y = [2, 4, 5, 4, 5]

correlation = np.corrcoef(x, y)[0, 1]
print("Correlation between X and Y:", correlation)

# ## 5️⃣ Bayes’ Theorem (Bonus Concept)
# Example: Probability of having a disease given a positive test
P_disease = 0.01
P_positive_given_disease = 0.99
P_positive_given_no_disease = 0.05

P_no_disease = 1 - P_disease

# Bayes Theorem
P_disease_given_positive = (P_positive_given_disease * P_disease) / (
    P_positive_given_disease * P_disease + P_positive_given_no_disease * P_no_disease
)

print("\nProbability of Disease given Positive Test:",
      round(P_disease_given_positive, 4))

# ---
# ### ✅ Summary
# In this notebook, we covered:
# - Basic statistical concepts
# - Visualization of probability distributions
# - Correlation understanding
# - Bayes’ Theorem example
# ---
# **Next Step:** Try creating your own data and visualize its distribution!
