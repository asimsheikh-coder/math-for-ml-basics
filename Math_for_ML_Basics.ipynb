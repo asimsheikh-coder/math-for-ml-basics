{
 "cells": [
  {
   "cell_type": "markdown",
   "id": "be28c8e2",
   "metadata": {},
   "source": [
    "# 🧮 Math for ML Basics\n",
    "This notebook introduces basic mathematical concepts behind machine learning using simple Python code and visualizations.\n",
    "\n",
    "---\n",
    "📘 **Table of Contents**\n",
    "1. Mean, Median, and Mode\n",
    "2. Variance and Standard Deviation\n",
    "3. Probability Distributions\n",
    "4. Correlation\n",
    "5. Bayes’ Theorem (Bonus)\n",
    "---\n"
   ]
  },
  {
   "cell_type": "code",
   "execution_count": null,
   "id": "4eb02903",
   "metadata": {},
   "outputs": [],
   "source": [
    "import numpy as np\n",
    "import statistics as stats\n",
    "\n",
    "data = [12, 15, 12, 18, 19, 12, 25, 22, 19]\n",
    "\n",
    "mean = np.mean(data)\n",
    "median = np.median(data)\n",
    "mode = stats.mode(data)\n",
    "\n",
    "print(\"Data:\", data)\n",
    "print(\"Mean:\", mean)\n",
    "print(\"Median:\", median)\n",
    "print(\"Mode:\", mode)"
   ]
  },
  {
   "cell_type": "code",
   "execution_count": null,
   "id": "3a4b3f7b",
   "metadata": {},
   "outputs": [],
   "source": [
    "variance = np.var(data)\n",
    "std_dev = np.std(data)\n",
    "\n",
    "print(\"\\nVariance:\", variance)\n",
    "print(\"Standard Deviation:\", std_dev)"
   ]
  },
  {
   "cell_type": "code",
   "execution_count": null,
   "id": "ea02f6c1",
   "metadata": {},
   "outputs": [],
   "source": [
    "import matplotlib.pyplot as plt\n",
    "from scipy.stats import norm\n",
    "\n",
    "x = np.linspace(-5, 5, 100)\n",
    "y = norm.pdf(x, 0, 1)\n",
    "\n",
    "plt.plot(x, y)\n",
    "plt.title(\"Normal Distribution (Mean=0, SD=1)\")\n",
    "plt.xlabel(\"X values\")\n",
    "plt.ylabel(\"Probability Density\")\n",
    "plt.grid(True)\n",
    "plt.show()"
   ]
  },
  {
   "cell_type": "code",
   "execution_count": null,
   "id": "37e87d0e",
   "metadata": {},
   "outputs": [],
   "source": [
    "x = [1, 2, 3, 4, 5]\n",
    "y = [2, 4, 5, 4, 5]\n",
    "\n",
    "correlation = np.corrcoef(x, y)[0, 1]\n",
    "print(\"Correlation between X and Y:\", correlation)"
   ]
  },
  {
   "cell_type": "code",
   "execution_count": null,
   "id": "0f99cc8a",
   "metadata": {},
   "outputs": [],
   "source": [
    "P_disease = 0.01\n",
    "P_positive_given_disease = 0.99\n",
    "P_positive_given_no_disease = 0.05\n",
    "\n",
    "P_no_disease = 1 - P_disease\n",
    "\n",
    "P_disease_given_positive = (P_positive_given_disease * P_disease) / (\n",
    "    P_positive_given_disease * P_disease + P_positive_given_no_disease * P_no_disease\n",
    ")\n",
    "\n",
    "print(\"\\nProbability of Disease given Positive Test:\", round(P_disease_given_positive, 4))"
   ]
  },
  {
   "cell_type": "markdown",
   "id": "04181d22",
   "metadata": {},
   "source": [
    "---\n",
    "### ✅ Summary\n",
    "In this notebook, we covered:\n",
    "- Basic statistical concepts\n",
    "- Visualization of probability distributions\n",
    "- Correlation understanding\n",
    "- Bayes’ Theorem example\n",
    "\n",
    "**Next Step:** Try creating your own data and visualize its distribution!\n",
    "---"
   ]
  }
 ],
 "metadata": {},
 "nbformat": 4,
 "nbformat_minor": 5
}
